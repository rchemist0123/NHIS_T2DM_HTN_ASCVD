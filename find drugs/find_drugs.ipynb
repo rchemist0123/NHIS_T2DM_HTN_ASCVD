{
 "cells": [
  {
   "cell_type": "code",
   "execution_count": 2,
   "metadata": {},
   "outputs": [
    {
     "data": {
      "text/plain": [
       "'c:\\\\Users\\\\s_jyhoon94\\\\nhis'"
      ]
     },
     "execution_count": 2,
     "metadata": {},
     "output_type": "execute_result"
    }
   ],
   "source": [
    "import pandas as pd\n",
    "import numpy as np\n",
    "import os\n",
    "os.getcwd()"
   ]
  },
  {
   "cell_type": "code",
   "execution_count": 3,
   "metadata": {},
   "outputs": [
    {
     "data": {
      "text/html": [
       "<div>\n",
       "<style scoped>\n",
       "    .dataframe tbody tr th:only-of-type {\n",
       "        vertical-align: middle;\n",
       "    }\n",
       "\n",
       "    .dataframe tbody tr th {\n",
       "        vertical-align: top;\n",
       "    }\n",
       "\n",
       "    .dataframe thead th {\n",
       "        text-align: right;\n",
       "    }\n",
       "</style>\n",
       "<table border=\"1\" class=\"dataframe\">\n",
       "  <thead>\n",
       "    <tr style=\"text-align: right;\">\n",
       "      <th></th>\n",
       "      <th>연번</th>\n",
       "      <th>투여</th>\n",
       "      <th>분류</th>\n",
       "      <th>주성분코드</th>\n",
       "      <th>제품코드</th>\n",
       "    </tr>\n",
       "  </thead>\n",
       "  <tbody>\n",
       "    <tr>\n",
       "      <th>0</th>\n",
       "      <td>1</td>\n",
       "      <td>내복</td>\n",
       "      <td>112</td>\n",
       "      <td>130830ASY</td>\n",
       "      <td>chloral hydrate   9.5g(0.1g/mL)</td>\n",
       "    </tr>\n",
       "    <tr>\n",
       "      <th>1</th>\n",
       "      <td>2</td>\n",
       "      <td>내복</td>\n",
       "      <td>112</td>\n",
       "      <td>130830ASY</td>\n",
       "      <td>645302132</td>\n",
       "    </tr>\n",
       "    <tr>\n",
       "      <th>2</th>\n",
       "      <td>3</td>\n",
       "      <td>내복</td>\n",
       "      <td>112</td>\n",
       "      <td>130832ASY</td>\n",
       "      <td>chloral hydrate   1g(0.1g/mL)</td>\n",
       "    </tr>\n",
       "    <tr>\n",
       "      <th>3</th>\n",
       "      <td>4</td>\n",
       "      <td>내복</td>\n",
       "      <td>112</td>\n",
       "      <td>130832ASY</td>\n",
       "      <td>645302133</td>\n",
       "    </tr>\n",
       "    <tr>\n",
       "      <th>4</th>\n",
       "      <td>5</td>\n",
       "      <td>내복</td>\n",
       "      <td>112</td>\n",
       "      <td>130833ASY</td>\n",
       "      <td>chloral hydrate   0.5g(0.1g/mL)</td>\n",
       "    </tr>\n",
       "  </tbody>\n",
       "</table>\n",
       "</div>"
      ],
      "text/plain": [
       "   연번  투여   분류      주성분코드                             제품코드\n",
       "0   1  내복  112  130830ASY  chloral hydrate   9.5g(0.1g/mL)\n",
       "1   2  내복  112  130830ASY                        645302132\n",
       "2   3  내복  112  130832ASY    chloral hydrate   1g(0.1g/mL)\n",
       "3   4  내복  112  130832ASY                        645302133\n",
       "4   5  내복  112  130833ASY  chloral hydrate   0.5g(0.1g/mL)"
      ]
     },
     "execution_count": 3,
     "metadata": {},
     "output_type": "execute_result"
    }
   ],
   "source": [
    "df = pd.read_csv('drugs_list.csv')\n",
    "df = df.loc[:,'연번':'제품코드']\n",
    "df.head()"
   ]
  },
  {
   "cell_type": "code",
   "execution_count": 4,
   "metadata": {},
   "outputs": [
    {
     "data": {
      "text/plain": [
       "{'thiazide': 5949    170801ATB\n",
       " 6814    262500ATB\n",
       " 6901    378900ATB\n",
       " 6941    486900ATB\n",
       " 6960    262700ATB\n",
       " 6963    356400ATB\n",
       " 7020    442600ATB\n",
       " 7215    385700ATB\n",
       " 7230    385800ATB\n",
       " 7243    423700ATB\n",
       " 7327    443300ATB\n",
       " 7381    502600ATB\n",
       " 7430    460500ATB\n",
       " 7530    469800ATB\n",
       " 7533    469900ATB\n",
       " 7536    470000ATB\n",
       " 8423    513600ATB\n",
       " 8460    519700ATB\n",
       " 8498    519800ATB\n",
       " 8536    520000ATB\n",
       " 8585    522000ATB\n",
       " 8589    526800ATB\n",
       " 8807    663500ATB\n",
       " 8812    663600ATB\n",
       " 8817    663700ATB\n",
       " 8822    663800ATB\n",
       " Name: 주성분코드, dtype: object}"
      ]
     },
     "execution_count": 4,
     "metadata": {},
     "output_type": "execute_result"
    }
   ],
   "source": [
    "temp = df[df['제품코드'].str.contains('thiazide', na=False)]['주성분코드']\n",
    "drug_dict ={}\n",
    "drug_dict['thiazide'] = temp\n",
    "\n",
    "drug_dict\n"
   ]
  },
  {
   "cell_type": "code",
   "execution_count": 5,
   "metadata": {},
   "outputs": [],
   "source": [
    "def findDrugs(*drugs):\n",
    "  my_dict = {}\n",
    "  dataFrame= pd.DataFrame()\n",
    "  for i in drugs:\n",
    "    temp = df[df['제품코드'].str.contains(i, na=False)]['주성분코드'].values\n",
    "    my_dict[i] = temp\n",
    "  # result = pd.DataFrame(dict([(k, pd.Series(v)) for k,v in my_dict.items()]))\n",
    "  return my_dict\n",
    "\n",
    "def codeList(df):\n",
    "  templist=[]\n",
    "  for i in df.columns:\n",
    "    for j in range(len(df[i])):\n",
    "      if type(df[i][j]) == str:\n",
    "        templist.append(df[i][j])\n",
    "\n",
    "  return templist\n"
   ]
  },
  {
   "cell_type": "code",
   "execution_count": 5,
   "metadata": {},
   "outputs": [],
   "source": [
    "thyroidDrugList = findDrugs(\n",
    "  'propylthiouracil','methimazole','carbimazole'\n",
    ")"
   ]
  },
  {
   "cell_type": "code",
   "execution_count": 7,
   "metadata": {},
   "outputs": [
    {
     "data": {
      "text/plain": [
       "['220101ATB', '191801ATB', '471501ATB', '471502ATB']"
      ]
     },
     "execution_count": 7,
     "metadata": {},
     "output_type": "execute_result"
    }
   ],
   "source": [
    "thyroidCodeList = codeList(thyroidDrugList)\n",
    "thyroidCodeList"
   ]
  },
  {
   "cell_type": "code",
   "execution_count": 6,
   "metadata": {},
   "outputs": [],
   "source": [
    "hypertensionDrugList = findDrugs(\n",
    "'hydrochlorothiazide', 'chlortalidone', 'indapamide', 'metolazone',#thiazide\n",
    "'furosemide','torasemide','spironlactone','amiloride', # loop diuretics\n",
    "'captopril','enalapril','lisinopril','perindopril','ramipril','fosinopril', # ACE inhibitors\n",
    "'candersartan','valsartan','losartan','fimasartan','telmisartan','irbesartan','olmesartan','azilsartan', # ARB\n",
    "'bisoprolol','carvedilol','nebivolol','metopriolol','propranolol','atenolol', #beta blockers\n",
    "'nifedipine','verapamil','diltiazem','amlodipine','nicardipine','felodipine','isradipine' # CCB\n",
    ")"
   ]
  },
  {
   "cell_type": "code",
   "execution_count": null,
   "metadata": {},
   "outputs": [],
   "source": [
    "T2DM_drugs_list = findDrugs(\n",
    "  'acarbose','voglibose', 'miglitol',#alpha-glucosidase inhibitor\n",
    "  'vildagliptin','sitagliptin','lanagliptin','saxagliptin','alogliptin', #DPP-4 inhibitor\n",
    "  'gliclazide','glibenclamide','glimepride','glipizide','chlorpropamide', #Sulfonylurea\n",
    "  'metformin',#metformin\n",
    "  'rosiglitazone','pioglitazone' #thiazolidinedione\n",
    "  'insulin',\n",
    "  'repaglinide','nateglinide','mitiglinide,'#meglitinide\n",
    "  'dapagliflozin','ipragliflozin','empagliflozin','ertugliflozin', # SGLT2 inhibitor\n",
    "  'Lixisenatide','Liraglutide','Dulaglutide' # GLP-1 receptor agonists\n",
    ")"
   ]
  },
  {
   "cell_type": "code",
   "execution_count": 5,
   "metadata": {},
   "outputs": [],
   "source": [
    "dislipidemia_drust_list = findDrugs(\n",
    "  'atorvastatin','pitavastatin','lovastatin','simvastatin','pravastatin','fluvastatin','rosuvastatin', # statin\n",
    "  'ezetimibe', #ezetimibe\n",
    "  'fenofibrate','gemfibrozil','bezafibrate','etofibrate' ,'ciprofibrate','fenofibric acid',#fibrate,\n",
    "  'niaspan', 'niacor', 'nitotinicacid', 'acipimox',\n",
    "  'omega-3-acid', 'probucol',\n",
    "  'cholestyramine'\n",
    ")"
   ]
  },
  {
   "cell_type": "code",
   "execution_count": 7,
   "metadata": {},
   "outputs": [],
   "source": [
    "t2dm_code_list=codeList(T2DM_drugs_list)"
   ]
  },
  {
   "cell_type": "code",
   "execution_count": 8,
   "metadata": {},
   "outputs": [
    {
     "data": {
      "text/plain": [
       "413"
      ]
     },
     "execution_count": 8,
     "metadata": {},
     "output_type": "execute_result"
    }
   ],
   "source": [
    "hptn_code_list = codeList(hypertensionDrugList)\n",
    "len(hptn_code_list)"
   ]
  },
  {
   "cell_type": "code",
   "execution_count": 6,
   "metadata": {},
   "outputs": [],
   "source": [
    "\n",
    "# hptn_code_list=codeList(hypertensionDrugList)\n",
    "dyslipidemia_code_list = codeList(dislipidemia_drust_list)"
   ]
  },
  {
   "cell_type": "code",
   "execution_count": 9,
   "metadata": {},
   "outputs": [
    {
     "data": {
      "text/plain": [
       "\"'100601ATB', '100602ATB', '249001ATB', '249002ATB', '500801ATB', '507000ATB', '507100ATB', '519600ATB', '501101ATB', '501102ATB', '501103ATB', '502300ATB', '502300ATR', '502900ATB', '513700ATB', '513700ATR', '524700ATR', '518500ATR', '518600ATR', '613301ATB', '613302ATB', '624202ATB', '624203ATB', '630500ATB', '630600ATB', '635600ATB', '635700ATB', '675500ATB', '165602ATB', '165603ATR', '165604ATR', '497200ATB', '165402ATB', '443400ATB', '443500ATB', '165801ATB', '191501ATB', '191502ATB', '191502ATR', '191503ATB', '191504ATB', '191504ATR', '191505ATR', '443400ATB', '443500ATB', '474200ATB', '474300ATB', '474300ATR', '498600ATB', '497200ATB', '498100ATB', '502300ATB', '502300ATR', '502900ATB', '513700ATB', '513700ATR', '524700ATR', '507000ATB', '507100ATB', '519600ATB', '518500ATR', '518600ATR', '518800ATB', '520500ATB', '520600ATB', '520700ATB', '523800ATR', '632000ATR', '645000ATR', '654100ATR', '635600ATB', '635700ATB', '675500ATB', '639800ATR', '641400ATR', '641800ATR', '641900ATR', '642000ATR', '648400ATB', '648500ATB', '648600ATB', '649000ATB', '649100ATB', '649200ATB', '649300ATB', '649400ATB', '649500ATB', '649900ATR', '650000ATR', '650100ATR', '653800ATR', '653900ATR', '654000ATR', '655700ATR', '671800ATR', '673800ATR', '671900ATR', '672000ATR', '672100ATR', '672500ATR', '672600ATR', '672700ATR', '672800ATR', '672900ATR', '683300ATR', '683400ATR', '379501ATB', '379502ATB', '379503ATB', '430201ATB', '430202ATB', '430203ATB', '636101ATB', '628201ATB', '628202ATB', '649000ATB', '649100ATB', '649200ATB', '649300ATB', '649400ATB', '649500ATB', '674301ATB', '674302ATB'\""
      ]
     },
     "execution_count": 9,
     "metadata": {},
     "output_type": "execute_result"
    }
   ],
   "source": [
    "\", \".join([\"'\" +i+\"'\" for i in t2dm_code_list])"
   ]
  },
  {
   "cell_type": "code",
   "execution_count": 188,
   "metadata": {},
   "outputs": [
    {
     "data": {
      "text/plain": [
       "\"'170801ATB', '262500ATB', '378900ATB', '486900ATB', '262700ATB', '356400ATB', '442600ATB', '385700ATB', '385800ATB', '423700ATB', '443300ATB', '502600ATB', '460500ATB', '469800ATB', '469900ATB', '470000ATB', '513600ATB', '519700ATB', '519800ATB', '520000ATB', '522000ATB', '526800ATB', '663500ATB', '663600ATB', '663700ATB', '663800ATB', '174403ATB', '174401ATR', '556200ATB', '163801ATB', '163830BIJ', '242001ATB', '242002ATB', '242003ATB', '106901ATB', '122901ATB', '122902ATB', '122903ATB', '151601ATB', '151603ATB', '184501ATB', '211301ATB', '211302ATB', '501601ATB', '501602ATB', '556200ATB', '222401ATB', '222402ATB', '222404ATB', '447100ATB', '447200ATB', '247101ATB', '247102ATB', '247103ATB', '247104ATB', '356400ATB', '442600ATB', '492800ATB', '492900ATB', '495800ATB', '522200ATB', '522300ATB', '522400ATB', '522600ATB', '522700ATB', '522800ATB', '522900ATB', '523000ATB', '523100ATB', '523200ATB', '523300ATB', '523400ATB', '525000ATB', '525100ATB', '525200ATB', '525300ATB', '629700ATB', '629800ATB', '634900ATB', '635000ATB', '635100ATB', '635200ATB', '651401ATB', '651402ATB', '651403ATB', '679500ATB', '679600ATB', '679700ATB', '680300ATB', '691400ATB', '691500ATB', '690400ATB', '690500ATB', '690600ATB', '690700ATB', '185701ATB', '185702ATB', '185703ATB', '262500ATB', '378900ATB', '486900ATB', '502700ATB', '503000ATB', '513900ATB', '637400ATB', '637500ATB', '637600ATB', '662800ATB', '662900ATB', '663000ATB', '663900ATB', '664000ATB', '664100ATB', '664200ATB', '664300ATB', '664400ATB', '692000ATB', '692100ATB', '692200ATB', '692300ATB', '692400ATB', '692500ATB', '515201ATB', '515202ATB', '515203ATB', '522000ATB', '526800ATB', '651900ATB', '652000ATB', '652100ATB', '652700ATB', '654700ATB', '654800ATB', '654900ATB', '655000ATB', '684300ATB', '684400ATB', '684500ATB', '684600ATB', '684700ATB', '688100ATB', '688200ATB', '688300ATB', '688400ATB', '688500ATB', '378801ATB', '378802ATB', '378803ATB', '443200ATB', '443300ATB', '502600ATB', '511500ATB', '511600ATB', '511700ATB', '623100ATB', '521200ATB', '521300ATB', '521400ATB', '644800ATB', '663500ATB', '663600ATB', '663700ATB', '663800ATB', '682700ATB', '682800ATB', '682900ATB', '629900ATB', '630000ATB', '630100ATB', '630200ATB', '631600ATB', '631700ATB', '671200ATB', '671300ATB', '671400ATB', '671500ATB', '671600ATB', '671700ATB', '677000ATB', '677100ATB', '177301ATB', '177303ATB', '385700ATB', '385800ATB', '524000ATB', '524100ATB', '527000ATB', '527100ATB', '468501ATB', '468502ATB', '468503ATB', '500500ATB', '582200ATB', '582400ATB', '513600ATB', '519700ATB', '519800ATB', '520000ATB', '547600ATB', '547700ATB', '547800ATB', '547900ATB', '548000ATB', '631300ATB', '629400ATB', '629500ATB', '629600ATB', '632800ATB', '632900ATB', '633000ATB', '526300ATB', '526400ATB', '526500ATB', '526900ATB', '644100ATB', '644200ATB', '653200ATB', '677300ATB', '677400ATB', '677500ATB', '677600ATB', '686800ATB', '686900ATB', '662401ATB', '662402ATB', '662403ATB', '673500ATB', '673600ATB', '117903ATB', '117904ATB', '469800ATB', '469900ATB', '470000ATB', '117901ATB', '117902ATB', '125001ATB', '125002ATB', '125003ATB', '125004ACR', '125005ATB', '125006ACR', '125007ACR', '125007ATR', '125008ACR', '125008ATR', '662201ATB', '489501ATB', '489502ATB', '489503ATB', '683000ATB', '683100ATB', '683200ATB', '691200ATB', '693000ATB', '219901ATB', '219904ATB', '111402ATB', '111403ATB', '262100ATB', '483101ATB', '483102ATB', '201405ATR', '201409ATR', '528201ATR', '528202ATR', '247603ATR', '247605ATR', '247606ATB', '247607ATB', '247630BIJ', '145703ACR', '145706ATB', '145707ACR', '145707ATR', '145704BIJ', '107601ATB', '107602ATB', '107603ATB', '459801ACH', '459801ATB', '459802ACH', '459901ATB', '459902ATB', '464601ATB', '470801ATB', '470802ATB', '476201ATB', '479701ATB', '483201ATB', '483202ATB', '486501ATB', '486502ATB', '486503ATB', '492800ATB', '492900ATB', '495800ATB', '500500ATB', '582200ATB', '582400ATB', '502700ATB', '503000ATB', '513900ATB', '511500ATB', '511600ATB', '511700ATB', '623100ATB', '519700ATB', '519800ATB', '520000ATB', '521200ATB', '521300ATB', '521400ATB', '644800ATB', '522600ATB', '522700ATB', '522800ATB', '522900ATB', '523000ATB', '523100ATB', '523200ATB', '523300ATB', '523400ATB', '547600ATB', '547700ATB', '547800ATB', '547900ATB', '548000ATB', '631300ATB', '629400ATB', '629500ATB', '629600ATB', '632800ATB', '632900ATB', '633000ATB', '637400ATB', '637500ATB', '637600ATB', '651900ATB', '652000ATB', '652100ATB', '652700ATB', '652900ATB', '653000ATB', '653100ATB', '662800ATB', '662900ATB', '663000ATB', '663500ATB', '663600ATB', '663700ATB', '663800ATB', '682700ATB', '682800ATB', '682900ATB', '472300ATB', '472400ATB', '472500ATB', '518900ATB', '614500ATB', '663900ATB', '664000ATB', '664100ATB', '664200ATB', '664300ATB', '664400ATB', '671200ATB', '671300ATB', '671400ATB', '671500ATB', '671600ATB', '671700ATB', '677000ATB', '677100ATB', '673900ATB', '674000ATB', '674100ATB', '678600ATB', '677300ATB', '677400ATB', '677500ATB', '677600ATB', '686800ATB', '686900ATB', '679500ATB', '679600ATB', '679700ATB', '680300ATB', '691400ATB', '691500ATB', '684300ATB', '684400ATB', '684500ATB', '684600ATB', '684700ATB', '690400ATB', '690500ATB', '690600ATB', '690700ATB', '692000ATB', '692100ATB', '692200ATB', '692300ATB', '692400ATB', '692500ATB', '201003ACR', '201030BIJ', '201031BIJ', '201033BIJ', '157501ATR', '157503ATR', '262400ATR', '447100ATB', '447200ATB'\""
      ]
     },
     "execution_count": 188,
     "metadata": {},
     "output_type": "execute_result"
    }
   ],
   "source": [
    "\", \".join([\"'\"+i+\"'\" for i in hptn_code_list])"
   ]
  },
  {
   "cell_type": "code",
   "execution_count": 231,
   "metadata": {},
   "outputs": [
    {
     "name": "stdout",
     "output_type": "stream",
     "text": [
      "'170801ATB', '262500ATB', '378900ATB', '486900ATB', '262700ATB', '356400ATB', '442600ATB', '385700ATB', '385800ATB', '423700ATB'\n",
      "'443300ATB', '502600ATB', '460500ATB', '469800ATB', '469900ATB', '470000ATB', '513600ATB', '519700ATB', '519800ATB', '520000ATB'\n",
      "'522000ATB', '526800ATB', '663500ATB', '663600ATB', '663700ATB', '663800ATB', '174403ATB', '174401ATR', '556200ATB', '163801ATB'\n",
      "'163830BIJ', '242001ATB', '242002ATB', '242003ATB', '106901ATB', '122901ATB', '122902ATB', '122903ATB', '151601ATB', '151603ATB'\n",
      "'184501ATB', '211301ATB', '211302ATB', '501601ATB', '501602ATB', '556200ATB', '222401ATB', '222402ATB', '222404ATB', '447100ATB'\n",
      "'447200ATB', '247101ATB', '247102ATB', '247103ATB', '247104ATB', '356400ATB', '442600ATB', '492800ATB', '492900ATB', '495800ATB'\n",
      "'522200ATB', '522300ATB', '522400ATB', '522600ATB', '522700ATB', '522800ATB', '522900ATB', '523000ATB', '523100ATB', '523200ATB'\n",
      "'523300ATB', '523400ATB', '525000ATB', '525100ATB', '525200ATB', '525300ATB', '629700ATB', '629800ATB', '634900ATB', '635000ATB'\n",
      "'635100ATB', '635200ATB', '651401ATB', '651402ATB', '651403ATB', '679500ATB', '679600ATB', '679700ATB', '680300ATB', '691400ATB'\n",
      "'691500ATB', '690400ATB', '690500ATB', '690600ATB', '690700ATB', '185701ATB', '185702ATB', '185703ATB', '262500ATB', '378900ATB'\n",
      "'486900ATB', '502700ATB', '503000ATB', '513900ATB', '637400ATB', '637500ATB', '637600ATB', '662800ATB', '662900ATB', '663000ATB'\n",
      "'663900ATB', '664000ATB', '664100ATB', '664200ATB', '664300ATB', '664400ATB', '692000ATB', '692100ATB', '692200ATB', '692300ATB'\n",
      "'692400ATB', '692500ATB', '515201ATB', '515202ATB', '515203ATB', '522000ATB', '526800ATB', '651900ATB', '652000ATB', '652100ATB'\n",
      "'652700ATB', '654700ATB', '654800ATB', '654900ATB', '655000ATB', '684300ATB', '684400ATB', '684500ATB', '684600ATB', '684700ATB'\n",
      "'688100ATB', '688200ATB', '688300ATB', '688400ATB', '688500ATB', '378801ATB', '378802ATB', '378803ATB', '443200ATB', '443300ATB'\n",
      "'502600ATB', '511500ATB', '511600ATB', '511700ATB', '623100ATB', '521200ATB', '521300ATB', '521400ATB', '644800ATB', '663500ATB'\n",
      "'663600ATB', '663700ATB', '663800ATB', '682700ATB', '682800ATB', '682900ATB', '629900ATB', '630000ATB', '630100ATB', '630200ATB'\n",
      "'631600ATB', '631700ATB', '671200ATB', '671300ATB', '671400ATB', '671500ATB', '671600ATB', '671700ATB', '677000ATB', '677100ATB'\n",
      "'177301ATB', '177303ATB', '385700ATB', '385800ATB', '524000ATB', '524100ATB', '527000ATB', '527100ATB', '468501ATB', '468502ATB'\n",
      "'468503ATB', '500500ATB', '582200ATB', '582400ATB', '513600ATB', '519700ATB', '519800ATB', '520000ATB', '547600ATB', '547700ATB'\n",
      "'547800ATB', '547900ATB', '548000ATB', '631300ATB', '629400ATB', '629500ATB', '629600ATB', '632800ATB', '632900ATB', '633000ATB'\n",
      "'526300ATB', '526400ATB', '526500ATB', '526900ATB', '644100ATB', '644200ATB', '653200ATB', '677300ATB', '677400ATB', '677500ATB'\n",
      "'677600ATB', '686800ATB', '686900ATB', '662401ATB', '662402ATB', '662403ATB', '673500ATB', '673600ATB', '117903ATB', '117904ATB'\n",
      "'469800ATB', '469900ATB', '470000ATB', '117901ATB', '117902ATB', '125001ATB', '125002ATB', '125003ATB', '125004ACR', '125005ATB'\n",
      "'125006ACR', '125007ACR', '125007ATR', '125008ACR', '125008ATR', '662201ATB', '489501ATB', '489502ATB', '489503ATB', '683000ATB'\n",
      "'683100ATB', '683200ATB', '691200ATB', '693000ATB', '219901ATB', '219904ATB', '111402ATB', '111403ATB', '262100ATB', '483101ATB'\n",
      "'483102ATB', '201405ATR', '201409ATR', '528201ATR', '528202ATR', '247603ATR', '247605ATR', '247606ATB', '247607ATB', '247630BIJ'\n",
      "'145703ACR', '145706ATB', '145707ACR', '145707ATR', '145704BIJ', '107601ATB', '107602ATB', '107603ATB', '459801ACH', '459801ATB'\n",
      "'459802ACH', '459901ATB', '459902ATB', '464601ATB', '470801ATB', '470802ATB', '476201ATB', '479701ATB', '483201ATB', '483202ATB'\n",
      "'486501ATB', '486502ATB', '486503ATB', '492800ATB', '492900ATB', '495800ATB', '500500ATB', '582200ATB', '582400ATB', '502700ATB'\n",
      "'503000ATB', '513900ATB', '511500ATB', '511600ATB', '511700ATB', '623100ATB', '519700ATB', '519800ATB', '520000ATB', '521200ATB'\n",
      "'521300ATB', '521400ATB', '644800ATB', '522600ATB', '522700ATB', '522800ATB', '522900ATB', '523000ATB', '523100ATB', '523200ATB'\n",
      "'523300ATB', '523400ATB', '547600ATB', '547700ATB', '547800ATB', '547900ATB', '548000ATB', '631300ATB', '629400ATB', '629500ATB'\n",
      "'629600ATB', '632800ATB', '632900ATB', '633000ATB', '637400ATB', '637500ATB', '637600ATB', '651900ATB', '652000ATB', '652100ATB'\n",
      "'652700ATB', '652900ATB', '653000ATB', '653100ATB', '662800ATB', '662900ATB', '663000ATB', '663500ATB', '663600ATB', '663700ATB'\n",
      "'663800ATB', '682700ATB', '682800ATB', '682900ATB', '472300ATB', '472400ATB', '472500ATB', '518900ATB', '614500ATB', '663900ATB'\n",
      "'664000ATB', '664100ATB', '664200ATB', '664300ATB', '664400ATB', '671200ATB', '671300ATB', '671400ATB', '671500ATB', '671600ATB'\n",
      "'671700ATB', '677000ATB', '677100ATB', '673900ATB', '674000ATB', '674100ATB', '678600ATB', '677300ATB', '677400ATB', '677500ATB'\n",
      "'677600ATB', '686800ATB', '686900ATB', '679500ATB', '679600ATB', '679700ATB', '680300ATB', '691400ATB', '691500ATB', '684300ATB'\n",
      "'684400ATB', '684500ATB', '684600ATB', '684700ATB', '690400ATB', '690500ATB', '690600ATB', '690700ATB', '692000ATB', '692100ATB'\n",
      "'692200ATB', '692300ATB', '692400ATB', '692500ATB', '201003ACR', '201030BIJ', '201031BIJ', '201033BIJ', '157501ATR', '157503ATR'\n",
      "'262400ATR', '447100ATB', '447200ATB', "
     ]
    }
   ],
   "source": [
    "x=\"\"\n",
    "for i in range(len(hptn_code_list)):\n",
    "  if i % 10 == 9:\n",
    "    print(x.join(\"'\"+hptn_code_list[i]+\"'\"),end=\"\\n\")\n",
    "  else:\n",
    "    print(x.join(\"'\"+hptn_code_list[i]+\"'\"), end=\", \")"
   ]
  },
  {
   "cell_type": "code",
   "execution_count": 220,
   "metadata": {},
   "outputs": [
    {
     "name": "stdout",
     "output_type": "stream",
     "text": [
      "170801ATB, 262500ATB, 378900ATB, 486900ATB, 262700ATB, 356400ATB, 442600ATB, 385700ATB, 385800ATB, 423700ATB\n",
      "443300ATB, 502600ATB, 460500ATB, 469800ATB, 469900ATB, 470000ATB, 513600ATB, 519700ATB, 519800ATB, 520000ATB\n",
      "522000ATB, 526800ATB, 663500ATB, 663600ATB, 663700ATB, 663800ATB, 174403ATB, 174401ATR, 556200ATB, 163801ATB\n",
      "163830BIJ, 242001ATB, 242002ATB, 242003ATB, 106901ATB, 122901ATB, 122902ATB, 122903ATB, 151601ATB, 151603ATB\n",
      "184501ATB, 211301ATB, 211302ATB, 501601ATB, 501602ATB, 556200ATB, 222401ATB, 222402ATB, 222404ATB, 447100ATB\n",
      "447200ATB, 247101ATB, 247102ATB, 247103ATB, 247104ATB, 356400ATB, 442600ATB, 492800ATB, 492900ATB, 495800ATB\n",
      "522200ATB, 522300ATB, 522400ATB, 522600ATB, 522700ATB, 522800ATB, 522900ATB, 523000ATB, 523100ATB, 523200ATB\n",
      "523300ATB, 523400ATB, 525000ATB, 525100ATB, 525200ATB, 525300ATB, 629700ATB, 629800ATB, 634900ATB, 635000ATB\n",
      "635100ATB, 635200ATB, 651401ATB, 651402ATB, 651403ATB, 679500ATB, 679600ATB, 679700ATB, 680300ATB, 691400ATB\n",
      "691500ATB, 690400ATB, 690500ATB, 690600ATB, 690700ATB, 185701ATB, 185702ATB, 185703ATB, 262500ATB, 378900ATB\n",
      "486900ATB, 502700ATB, 503000ATB, 513900ATB, 637400ATB, 637500ATB, 637600ATB, 662800ATB, 662900ATB, 663000ATB\n",
      "663900ATB, 664000ATB, 664100ATB, 664200ATB, 664300ATB, 664400ATB, 692000ATB, 692100ATB, 692200ATB, 692300ATB\n",
      "692400ATB, 692500ATB, 515201ATB, 515202ATB, 515203ATB, 522000ATB, 526800ATB, 651900ATB, 652000ATB, 652100ATB\n",
      "652700ATB, 654700ATB, 654800ATB, 654900ATB, 655000ATB, 684300ATB, 684400ATB, 684500ATB, 684600ATB, 684700ATB\n",
      "688100ATB, 688200ATB, 688300ATB, 688400ATB, 688500ATB, 378801ATB, 378802ATB, 378803ATB, 443200ATB, 443300ATB\n",
      "502600ATB, 511500ATB, 511600ATB, 511700ATB, 623100ATB, 521200ATB, 521300ATB, 521400ATB, 644800ATB, 663500ATB\n",
      "663600ATB, 663700ATB, 663800ATB, 682700ATB, 682800ATB, 682900ATB, 629900ATB, 630000ATB, 630100ATB, 630200ATB\n",
      "631600ATB, 631700ATB, 671200ATB, 671300ATB, 671400ATB, 671500ATB, 671600ATB, 671700ATB, 677000ATB, 677100ATB\n",
      "177301ATB, 177303ATB, 385700ATB, 385800ATB, 524000ATB, 524100ATB, 527000ATB, 527100ATB, 468501ATB, 468502ATB\n",
      "468503ATB, 500500ATB, 582200ATB, 582400ATB, 513600ATB, 519700ATB, 519800ATB, 520000ATB, 547600ATB, 547700ATB\n",
      "547800ATB, 547900ATB, 548000ATB, 631300ATB, 629400ATB, 629500ATB, 629600ATB, 632800ATB, 632900ATB, 633000ATB\n",
      "526300ATB, 526400ATB, 526500ATB, 526900ATB, 644100ATB, 644200ATB, 653200ATB, 677300ATB, 677400ATB, 677500ATB\n",
      "677600ATB, 686800ATB, 686900ATB, 662401ATB, 662402ATB, 662403ATB, 673500ATB, 673600ATB, 117903ATB, 117904ATB\n",
      "469800ATB, 469900ATB, 470000ATB, 117901ATB, 117902ATB, 125001ATB, 125002ATB, 125003ATB, 125004ACR, 125005ATB\n",
      "125006ACR, 125007ACR, 125007ATR, 125008ACR, 125008ATR, 662201ATB, 489501ATB, 489502ATB, 489503ATB, 683000ATB\n",
      "683100ATB, 683200ATB, 691200ATB, 693000ATB, 219901ATB, 219904ATB, 111402ATB, 111403ATB, 262100ATB, 483101ATB\n",
      "483102ATB, 201405ATR, 201409ATR, 528201ATR, 528202ATR, 247603ATR, 247605ATR, 247606ATB, 247607ATB, 247630BIJ\n",
      "145703ACR, 145706ATB, 145707ACR, 145707ATR, 145704BIJ, 107601ATB, 107602ATB, 107603ATB, 459801ACH, 459801ATB\n",
      "459802ACH, 459901ATB, 459902ATB, 464601ATB, 470801ATB, 470802ATB, 476201ATB, 479701ATB, 483201ATB, 483202ATB\n",
      "486501ATB, 486502ATB, 486503ATB, 492800ATB, 492900ATB, 495800ATB, 500500ATB, 582200ATB, 582400ATB, 502700ATB\n",
      "503000ATB, 513900ATB, 511500ATB, 511600ATB, 511700ATB, 623100ATB, 519700ATB, 519800ATB, 520000ATB, 521200ATB\n",
      "521300ATB, 521400ATB, 644800ATB, 522600ATB, 522700ATB, 522800ATB, 522900ATB, 523000ATB, 523100ATB, 523200ATB\n",
      "523300ATB, 523400ATB, 547600ATB, 547700ATB, 547800ATB, 547900ATB, 548000ATB, 631300ATB, 629400ATB, 629500ATB\n",
      "629600ATB, 632800ATB, 632900ATB, 633000ATB, 637400ATB, 637500ATB, 637600ATB, 651900ATB, 652000ATB, 652100ATB\n",
      "652700ATB, 652900ATB, 653000ATB, 653100ATB, 662800ATB, 662900ATB, 663000ATB, 663500ATB, 663600ATB, 663700ATB\n",
      "663800ATB, 682700ATB, 682800ATB, 682900ATB, 472300ATB, 472400ATB, 472500ATB, 518900ATB, 614500ATB, 663900ATB\n",
      "664000ATB, 664100ATB, 664200ATB, 664300ATB, 664400ATB, 671200ATB, 671300ATB, 671400ATB, 671500ATB, 671600ATB\n",
      "671700ATB, 677000ATB, 677100ATB, 673900ATB, 674000ATB, 674100ATB, 678600ATB, 677300ATB, 677400ATB, 677500ATB\n",
      "677600ATB, 686800ATB, 686900ATB, 679500ATB, 679600ATB, 679700ATB, 680300ATB, 691400ATB, 691500ATB, 684300ATB\n",
      "684400ATB, 684500ATB, 684600ATB, 684700ATB, 690400ATB, 690500ATB, 690600ATB, 690700ATB, 692000ATB, 692100ATB\n",
      "692200ATB, 692300ATB, 692400ATB, 692500ATB, 201003ACR, 201030BIJ, 201031BIJ, 201033BIJ, 157501ATR, 157503ATR\n",
      "262400ATR, 447100ATB, 447200ATB\n"
     ]
    }
   ],
   "source": [
    "for i in range(0,len(hptn_code_list), 10):\n",
    "  print(str(\", \".join(hptn_code_list[i:i+10])))"
   ]
  },
  {
   "cell_type": "code",
   "execution_count": 207,
   "metadata": {},
   "outputs": [
    {
     "ename": "TypeError",
     "evalue": "can only concatenate str (not \"list\") to str",
     "output_type": "error",
     "traceback": [
      "\u001b[1;31m---------------------------------------------------------------------------\u001b[0m",
      "\u001b[1;31mTypeError\u001b[0m                                 Traceback (most recent call last)",
      "\u001b[1;32m<ipython-input-207-1da2afb13039>\u001b[0m in \u001b[0;36m<module>\u001b[1;34m\u001b[0m\n\u001b[1;32m----> 1\u001b[1;33m \u001b[1;34m\", \"\u001b[0m\u001b[1;33m.\u001b[0m\u001b[0mjoin\u001b[0m\u001b[1;33m(\u001b[0m\u001b[1;33m[\u001b[0m\u001b[1;34m\"'\"\u001b[0m\u001b[1;33m+\u001b[0m\u001b[0mhptn_code_list\u001b[0m\u001b[1;33m[\u001b[0m\u001b[0mi\u001b[0m\u001b[1;33m:\u001b[0m\u001b[0mi\u001b[0m\u001b[1;33m+\u001b[0m\u001b[1;36m10\u001b[0m\u001b[1;33m]\u001b[0m\u001b[1;33m+\u001b[0m\u001b[1;34m\"'\"\u001b[0m \u001b[1;32mfor\u001b[0m \u001b[0mi\u001b[0m \u001b[1;32min\u001b[0m \u001b[0mrange\u001b[0m\u001b[1;33m(\u001b[0m\u001b[1;36m0\u001b[0m\u001b[1;33m,\u001b[0m \u001b[0mlen\u001b[0m\u001b[1;33m(\u001b[0m\u001b[0mhptn_code_list\u001b[0m\u001b[1;33m)\u001b[0m\u001b[1;33m,\u001b[0m\u001b[1;36m10\u001b[0m\u001b[1;33m)\u001b[0m\u001b[1;33m]\u001b[0m\u001b[1;33m)\u001b[0m\u001b[1;33m\u001b[0m\u001b[1;33m\u001b[0m\u001b[0m\n\u001b[0m",
      "\u001b[1;32m<ipython-input-207-1da2afb13039>\u001b[0m in \u001b[0;36m<listcomp>\u001b[1;34m(.0)\u001b[0m\n\u001b[1;32m----> 1\u001b[1;33m \u001b[1;34m\", \"\u001b[0m\u001b[1;33m.\u001b[0m\u001b[0mjoin\u001b[0m\u001b[1;33m(\u001b[0m\u001b[1;33m[\u001b[0m\u001b[1;34m\"'\"\u001b[0m\u001b[1;33m+\u001b[0m\u001b[0mhptn_code_list\u001b[0m\u001b[1;33m[\u001b[0m\u001b[0mi\u001b[0m\u001b[1;33m:\u001b[0m\u001b[0mi\u001b[0m\u001b[1;33m+\u001b[0m\u001b[1;36m10\u001b[0m\u001b[1;33m]\u001b[0m\u001b[1;33m+\u001b[0m\u001b[1;34m\"'\"\u001b[0m \u001b[1;32mfor\u001b[0m \u001b[0mi\u001b[0m \u001b[1;32min\u001b[0m \u001b[0mrange\u001b[0m\u001b[1;33m(\u001b[0m\u001b[1;36m0\u001b[0m\u001b[1;33m,\u001b[0m \u001b[0mlen\u001b[0m\u001b[1;33m(\u001b[0m\u001b[0mhptn_code_list\u001b[0m\u001b[1;33m)\u001b[0m\u001b[1;33m,\u001b[0m\u001b[1;36m10\u001b[0m\u001b[1;33m)\u001b[0m\u001b[1;33m]\u001b[0m\u001b[1;33m)\u001b[0m\u001b[1;33m\u001b[0m\u001b[1;33m\u001b[0m\u001b[0m\n\u001b[0m",
      "\u001b[1;31mTypeError\u001b[0m: can only concatenate str (not \"list\") to str"
     ]
    }
   ],
   "source": [
    "\", \".join([\"'\"+hptn_code_list[i:i+10]+\"'\" for i in range(0, len(hptn_code_list),10)])"
   ]
  },
  {
   "cell_type": "code",
   "execution_count": 218,
   "metadata": {},
   "outputs": [
    {
     "data": {
      "text/plain": [
       "\"'100601ATB', '100602ATB', '249001ATB', '249002ATB', '500801ATB', '507000ATB', '507100ATB', '519600ATB', '501101ATB', '501102ATB', '501103ATB', '502300ATB', '502300ATR', '502900ATB', '513700ATB', '513700ATR', '524700ATR', '518500ATR', '518600ATR', '613301ATB', '613302ATB', '624202ATB', '624203ATB', '630500ATB', '630600ATB', '635600ATB', '635700ATB', '675500ATB', '165602ATB', '165603ATR', '165604ATR', '497200ATB', '165402ATB', '443400ATB', '443500ATB', '165801ATB', '191501ATB', '191502ATB', '191502ATR', '191503ATB', '191504ATB', '191504ATR', '191505ATR', '443400ATB', '443500ATB', '474200ATB', '474300ATB', '474300ATR', '498600ATB', '497200ATB', '498100ATB', '502300ATB', '502300ATR', '502900ATB', '513700ATB', '513700ATR', '524700ATR', '507000ATB', '507100ATB', '519600ATB', '518500ATR', '518600ATR', '518800ATB', '520500ATB', '520600ATB', '520700ATB', '523800ATR', '632000ATR', '645000ATR', '654100ATR', '635600ATB', '635700ATB', '675500ATB', '639800ATR', '641400ATR', '641800ATR', '641900ATR', '642000ATR', '648400ATB', '648500ATB', '648600ATB', '649000ATB', '649100ATB', '649200ATB', '649300ATB', '649400ATB', '649500ATB', '649900ATR', '650000ATR', '650100ATR', '653800ATR', '653900ATR', '654000ATR', '655700ATR', '671800ATR', '673800ATR', '671900ATR', '672000ATR', '672100ATR', '672500ATR', '672600ATR', '672700ATR', '672800ATR', '672900ATR', '683300ATR', '683400ATR', '379501ATB', '379502ATB', '379503ATB', '430201ATB', '430202ATB', '430203ATB', '636101ATB', '628201ATB', '628202ATB', '649000ATB', '649100ATB', '649200ATB', '649300ATB', '649400ATB', '649500ATB', '674301ATB', '674302ATB'\""
      ]
     },
     "execution_count": 218,
     "metadata": {},
     "output_type": "execute_result"
    }
   ],
   "source": [
    "\", \".join([\"'\"+i+\"'\" for i in t2dm_code_list])"
   ]
  },
  {
   "cell_type": "code",
   "execution_count": 236,
   "metadata": {},
   "outputs": [
    {
     "data": {
      "text/plain": [
       "[4, 2, 5, 'str', 12, 'str', 3, 1, 'str']"
      ]
     },
     "execution_count": 236,
     "metadata": {},
     "output_type": "execute_result"
    }
   ],
   "source": [
    "lst = [4,2,5,'a',12,'c',3,1,'d']\n",
    "\n",
    "[y for y in lst if type(y)==int]\n",
    "[y if type(y)==int else 'str' for y in lst]"
   ]
  },
  {
   "cell_type": "code",
   "execution_count": null,
   "metadata": {},
   "outputs": [],
   "source": []
  }
 ],
 "metadata": {
  "kernelspec": {
   "display_name": "Python 3.9.5 ('mimic')",
   "language": "python",
   "name": "python3"
  },
  "language_info": {
   "codemirror_mode": {
    "name": "ipython",
    "version": 3
   },
   "file_extension": ".py",
   "mimetype": "text/x-python",
   "name": "python",
   "nbconvert_exporter": "python",
   "pygments_lexer": "ipython3",
   "version": "3.9.5"
  },
  "orig_nbformat": 4,
  "vscode": {
   "interpreter": {
    "hash": "d944c097c6c0ce938c9fd99dccfa8f17985292760f4c244e0db5263c0bf8ff2a"
   }
  }
 },
 "nbformat": 4,
 "nbformat_minor": 2
}
